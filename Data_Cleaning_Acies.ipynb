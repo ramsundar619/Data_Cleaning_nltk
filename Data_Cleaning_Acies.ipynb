{
  "nbformat": 4,
  "nbformat_minor": 0,
  "metadata": {
    "colab": {
      "name": "Data_Cleaning_Acies.ipynb",
      "provenance": [],
      "collapsed_sections": [],
      "authorship_tag": "ABX9TyMvcpGDJVmhV04seHq3Q6u6",
      "include_colab_link": true
    },
    "kernelspec": {
      "name": "python3",
      "display_name": "Python 3"
    },
    "language_info": {
      "name": "python"
    }
  },
  "cells": [
    {
      "cell_type": "markdown",
      "metadata": {
        "id": "view-in-github",
        "colab_type": "text"
      },
      "source": [
        "<a href=\"https://colab.research.google.com/github/ramsundar619/Data_Cleaning_nltk/blob/main/Data_Cleaning_Acies.ipynb\" target=\"_parent\"><img src=\"https://colab.research.google.com/assets/colab-badge.svg\" alt=\"Open In Colab\"/></a>"
      ]
    },
    {
      "cell_type": "code",
      "metadata": {
        "id": "e-PFj-HvrWan"
      },
      "source": [
        "import json\n",
        "import pandas as pd\n",
        "from pandas.io.json import json_normalize #package for flattening json in pandas df"
      ],
      "execution_count": null,
      "outputs": []
    },
    {
      "cell_type": "code",
      "metadata": {
        "id": "cFM4tteatAYI"
      },
      "source": [
        "import csv,json"
      ],
      "execution_count": null,
      "outputs": []
    },
    {
      "cell_type": "code",
      "metadata": {
        "id": "nSZaqI9hxsIT"
      },
      "source": [
        "csv_path = '/content/Deep_Learning_Plotly_Data.csv'\n",
        "json_path = '/content/data.json'"
      ],
      "execution_count": null,
      "outputs": []
    },
    {
      "cell_type": "code",
      "metadata": {
        "id": "Eh3FCl3F2z7r"
      },
      "source": [
        "data_df = pd.read_csv(csv_path)"
      ],
      "execution_count": null,
      "outputs": []
    },
    {
      "cell_type": "code",
      "metadata": {
        "colab": {
          "base_uri": "https://localhost:8080/",
          "height": 193
        },
        "id": "xuwhcAb-8Eyp",
        "outputId": "0a9b1b1f-e85d-4b05-8d90-ef7aa8b57922"
      },
      "source": [
        "data_df.head()"
      ],
      "execution_count": null,
      "outputs": [
        {
          "output_type": "execute_result",
          "data": {
            "text/html": [
              "<div>\n",
              "<style scoped>\n",
              "    .dataframe tbody tr th:only-of-type {\n",
              "        vertical-align: middle;\n",
              "    }\n",
              "\n",
              "    .dataframe tbody tr th {\n",
              "        vertical-align: top;\n",
              "    }\n",
              "\n",
              "    .dataframe thead th {\n",
              "        text-align: right;\n",
              "    }\n",
              "</style>\n",
              "<table border=\"1\" class=\"dataframe\">\n",
              "  <thead>\n",
              "    <tr style=\"text-align: right;\">\n",
              "      <th></th>\n",
              "      <th>Sno</th>\n",
              "      <th>Chart Type</th>\n",
              "      <th>Chart config</th>\n",
              "      <th>Chart description_1</th>\n",
              "      <th>Chart description_2</th>\n",
              "      <th>Chart description_3</th>\n",
              "      <th>Chart description_4</th>\n",
              "    </tr>\n",
              "  </thead>\n",
              "  <tbody>\n",
              "    <tr>\n",
              "      <th>0</th>\n",
              "      <td>1</td>\n",
              "      <td>Vertical Bar Chart</td>\n",
              "      <td>[{agg_distinct: undefined,backgroundcolor: \"rg...</td>\n",
              "      <td>Create a vertical bar chart on Trade_Dummy tab...</td>\n",
              "      <td>Plot Isin v Quantity from Trade_Dummy table on...</td>\n",
              "      <td>Plot a darkgoldenrod vertical bar chart with I...</td>\n",
              "      <td>Isin v/s Quantity vertical bar chart from Trad...</td>\n",
              "    </tr>\n",
              "    <tr>\n",
              "      <th>1</th>\n",
              "      <td>2</td>\n",
              "      <td>Pie Chart</td>\n",
              "      <td>[{agg_distinct: undefined,backgroundcolor: \"rg...</td>\n",
              "      <td>Create a pie chart on Trade_Dummy table with x...</td>\n",
              "      <td>Plot Isin v Quantity from Trade_Dummy table on...</td>\n",
              "      <td>Plot a darkgoldenrod pie chart with Isin as x ...</td>\n",
              "      <td>Isin v/s Quantity pie chart from Trade_Dummy t...</td>\n",
              "    </tr>\n",
              "    <tr>\n",
              "      <th>2</th>\n",
              "      <td>3</td>\n",
              "      <td>Scatter</td>\n",
              "      <td>[{agg_distinct: undefined,backgroundcolor: \"rg...</td>\n",
              "      <td>Create a scatter chart on Trade_Dummy table wi...</td>\n",
              "      <td>Plot Quantity v Trade Price from Trade_Dummy t...</td>\n",
              "      <td>Plot a darkgoldenrod scatter chart with Quanti...</td>\n",
              "      <td>Quantity v/s Trade Price scatter chart from Tr...</td>\n",
              "    </tr>\n",
              "  </tbody>\n",
              "</table>\n",
              "</div>"
            ],
            "text/plain": [
              "   Sno  ...                                Chart description_4\n",
              "0    1  ...  Isin v/s Quantity vertical bar chart from Trad...\n",
              "1    2  ...  Isin v/s Quantity pie chart from Trade_Dummy t...\n",
              "2    3  ...  Quantity v/s Trade Price scatter chart from Tr...\n",
              "\n",
              "[3 rows x 7 columns]"
            ]
          },
          "metadata": {},
          "execution_count": 5
        }
      ]
    },
    {
      "cell_type": "code",
      "metadata": {
        "id": "KK2aaaf78N1r"
      },
      "source": [
        "import spacy"
      ],
      "execution_count": null,
      "outputs": []
    },
    {
      "cell_type": "code",
      "metadata": {
        "colab": {
          "base_uri": "https://localhost:8080/"
        },
        "id": "2ixISVel9jnZ",
        "outputId": "1d202658-bc82-47b0-f4c8-5a0d24d7efc1"
      },
      "source": [
        "!python -m spacy download en_core_web_sm"
      ],
      "execution_count": null,
      "outputs": [
        {
          "output_type": "stream",
          "name": "stdout",
          "text": [
            "Collecting en-core-web-sm==3.1.0\n",
            "  Downloading https://github.com/explosion/spacy-models/releases/download/en_core_web_sm-3.1.0/en_core_web_sm-3.1.0-py3-none-any.whl (13.6 MB)\n",
            "\u001b[K     |████████████████████████████████| 13.6 MB 75 kB/s \n",
            "\u001b[?25hRequirement already satisfied: spacy<3.2.0,>=3.1.0 in /usr/local/lib/python3.7/dist-packages (from en-core-web-sm==3.1.0) (3.1.3)\n",
            "Requirement already satisfied: pathy>=0.3.5 in /usr/local/lib/python3.7/dist-packages (from spacy<3.2.0,>=3.1.0->en-core-web-sm==3.1.0) (0.6.1)\n",
            "Requirement already satisfied: requests<3.0.0,>=2.13.0 in /usr/local/lib/python3.7/dist-packages (from spacy<3.2.0,>=3.1.0->en-core-web-sm==3.1.0) (2.23.0)\n",
            "Requirement already satisfied: pydantic!=1.8,!=1.8.1,<1.9.0,>=1.7.4 in /usr/local/lib/python3.7/dist-packages (from spacy<3.2.0,>=3.1.0->en-core-web-sm==3.1.0) (1.8.2)\n",
            "Requirement already satisfied: spacy-legacy<3.1.0,>=3.0.8 in /usr/local/lib/python3.7/dist-packages (from spacy<3.2.0,>=3.1.0->en-core-web-sm==3.1.0) (3.0.8)\n",
            "Requirement already satisfied: srsly<3.0.0,>=2.4.1 in /usr/local/lib/python3.7/dist-packages (from spacy<3.2.0,>=3.1.0->en-core-web-sm==3.1.0) (2.4.2)\n",
            "Requirement already satisfied: typing-extensions<4.0.0.0,>=3.7.4 in /usr/local/lib/python3.7/dist-packages (from spacy<3.2.0,>=3.1.0->en-core-web-sm==3.1.0) (3.7.4.3)\n",
            "Requirement already satisfied: cymem<2.1.0,>=2.0.2 in /usr/local/lib/python3.7/dist-packages (from spacy<3.2.0,>=3.1.0->en-core-web-sm==3.1.0) (2.0.5)\n",
            "Requirement already satisfied: murmurhash<1.1.0,>=0.28.0 in /usr/local/lib/python3.7/dist-packages (from spacy<3.2.0,>=3.1.0->en-core-web-sm==3.1.0) (1.0.5)\n",
            "Requirement already satisfied: thinc<8.1.0,>=8.0.9 in /usr/local/lib/python3.7/dist-packages (from spacy<3.2.0,>=3.1.0->en-core-web-sm==3.1.0) (8.0.11)\n",
            "Requirement already satisfied: typer<0.5.0,>=0.3.0 in /usr/local/lib/python3.7/dist-packages (from spacy<3.2.0,>=3.1.0->en-core-web-sm==3.1.0) (0.4.0)\n",
            "Requirement already satisfied: setuptools in /usr/local/lib/python3.7/dist-packages (from spacy<3.2.0,>=3.1.0->en-core-web-sm==3.1.0) (57.4.0)\n",
            "Requirement already satisfied: numpy>=1.15.0 in /usr/local/lib/python3.7/dist-packages (from spacy<3.2.0,>=3.1.0->en-core-web-sm==3.1.0) (1.19.5)\n",
            "Requirement already satisfied: blis<0.8.0,>=0.4.0 in /usr/local/lib/python3.7/dist-packages (from spacy<3.2.0,>=3.1.0->en-core-web-sm==3.1.0) (0.4.1)\n",
            "Requirement already satisfied: wasabi<1.1.0,>=0.8.1 in /usr/local/lib/python3.7/dist-packages (from spacy<3.2.0,>=3.1.0->en-core-web-sm==3.1.0) (0.8.2)\n",
            "Requirement already satisfied: preshed<3.1.0,>=3.0.2 in /usr/local/lib/python3.7/dist-packages (from spacy<3.2.0,>=3.1.0->en-core-web-sm==3.1.0) (3.0.5)\n",
            "Requirement already satisfied: jinja2 in /usr/local/lib/python3.7/dist-packages (from spacy<3.2.0,>=3.1.0->en-core-web-sm==3.1.0) (2.11.3)\n",
            "Requirement already satisfied: packaging>=20.0 in /usr/local/lib/python3.7/dist-packages (from spacy<3.2.0,>=3.1.0->en-core-web-sm==3.1.0) (21.0)\n",
            "Requirement already satisfied: tqdm<5.0.0,>=4.38.0 in /usr/local/lib/python3.7/dist-packages (from spacy<3.2.0,>=3.1.0->en-core-web-sm==3.1.0) (4.62.3)\n",
            "Requirement already satisfied: catalogue<2.1.0,>=2.0.6 in /usr/local/lib/python3.7/dist-packages (from spacy<3.2.0,>=3.1.0->en-core-web-sm==3.1.0) (2.0.6)\n",
            "Requirement already satisfied: zipp>=0.5 in /usr/local/lib/python3.7/dist-packages (from catalogue<2.1.0,>=2.0.6->spacy<3.2.0,>=3.1.0->en-core-web-sm==3.1.0) (3.6.0)\n",
            "Requirement already satisfied: pyparsing>=2.0.2 in /usr/local/lib/python3.7/dist-packages (from packaging>=20.0->spacy<3.2.0,>=3.1.0->en-core-web-sm==3.1.0) (2.4.7)\n",
            "Requirement already satisfied: smart-open<6.0.0,>=5.0.0 in /usr/local/lib/python3.7/dist-packages (from pathy>=0.3.5->spacy<3.2.0,>=3.1.0->en-core-web-sm==3.1.0) (5.2.1)\n",
            "Requirement already satisfied: idna<3,>=2.5 in /usr/local/lib/python3.7/dist-packages (from requests<3.0.0,>=2.13.0->spacy<3.2.0,>=3.1.0->en-core-web-sm==3.1.0) (2.10)\n",
            "Requirement already satisfied: chardet<4,>=3.0.2 in /usr/local/lib/python3.7/dist-packages (from requests<3.0.0,>=2.13.0->spacy<3.2.0,>=3.1.0->en-core-web-sm==3.1.0) (3.0.4)\n",
            "Requirement already satisfied: urllib3!=1.25.0,!=1.25.1,<1.26,>=1.21.1 in /usr/local/lib/python3.7/dist-packages (from requests<3.0.0,>=2.13.0->spacy<3.2.0,>=3.1.0->en-core-web-sm==3.1.0) (1.24.3)\n",
            "Requirement already satisfied: certifi>=2017.4.17 in /usr/local/lib/python3.7/dist-packages (from requests<3.0.0,>=2.13.0->spacy<3.2.0,>=3.1.0->en-core-web-sm==3.1.0) (2021.5.30)\n",
            "Requirement already satisfied: click<9.0.0,>=7.1.1 in /usr/local/lib/python3.7/dist-packages (from typer<0.5.0,>=0.3.0->spacy<3.2.0,>=3.1.0->en-core-web-sm==3.1.0) (7.1.2)\n",
            "Requirement already satisfied: MarkupSafe>=0.23 in /usr/local/lib/python3.7/dist-packages (from jinja2->spacy<3.2.0,>=3.1.0->en-core-web-sm==3.1.0) (2.0.1)\n",
            "Installing collected packages: en-core-web-sm\n",
            "  Attempting uninstall: en-core-web-sm\n",
            "    Found existing installation: en-core-web-sm 2.2.5\n",
            "    Uninstalling en-core-web-sm-2.2.5:\n",
            "      Successfully uninstalled en-core-web-sm-2.2.5\n",
            "Successfully installed en-core-web-sm-3.1.0\n",
            "\u001b[38;5;2m✔ Download and installation successful\u001b[0m\n",
            "You can now load the package via spacy.load('en_core_web_sm')\n"
          ]
        }
      ]
    },
    {
      "cell_type": "code",
      "metadata": {
        "id": "2CQE3GiJ8SBN"
      },
      "source": [
        "nlp = spacy.load(\"en_core_web_sm\")"
      ],
      "execution_count": null,
      "outputs": []
    },
    {
      "cell_type": "code",
      "metadata": {
        "colab": {
          "base_uri": "https://localhost:8080/",
          "height": 35
        },
        "id": "Zde1PcCL92Wf",
        "outputId": "66e8706d-ebed-40df-f6f2-b18d93d4abb7"
      },
      "source": [
        "data_df['Chart description_1'][0]"
      ],
      "execution_count": null,
      "outputs": [
        {
          "output_type": "execute_result",
          "data": {
            "application/vnd.google.colaboratory.intrinsic+json": {
              "type": "string"
            },
            "text/plain": [
              "'Create a vertical bar chart on Trade_Dummy table with x axis as Isin and y axis as Quantity with filter columns as Isin and Quantity. The color of the chart should be darkgoldenrod.'"
            ]
          },
          "metadata": {},
          "execution_count": 10
        }
      ]
    },
    {
      "cell_type": "code",
      "metadata": {
        "id": "x4zrohqR-FOV"
      },
      "source": [
        "text = data_df['Chart description_1'][0]"
      ],
      "execution_count": null,
      "outputs": []
    },
    {
      "cell_type": "code",
      "metadata": {
        "id": "Koy_fL41-Xnr"
      },
      "source": [
        "doc = nlp(text)"
      ],
      "execution_count": null,
      "outputs": []
    },
    {
      "cell_type": "code",
      "metadata": {
        "colab": {
          "base_uri": "https://localhost:8080/"
        },
        "id": "vpa7ym02-eR9",
        "outputId": "efaada16-fb03-4974-cd33-e3df351bf34e"
      },
      "source": [
        "print(doc.ents)"
      ],
      "execution_count": null,
      "outputs": [
        {
          "output_type": "stream",
          "name": "stdout",
          "text": [
            "(Isin and Quantity,)\n"
          ]
        }
      ]
    },
    {
      "cell_type": "code",
      "metadata": {
        "colab": {
          "base_uri": "https://localhost:8080/"
        },
        "id": "D2bk7E0NFt_J",
        "outputId": "d6bdbc71-d315-4e7e-92e1-56fedc98369f"
      },
      "source": [
        "import nltk\n",
        "nltk.download('stopwords')\n",
        "from nltk.corpus import stopwords\n",
        "stop_words = set(stopwords.words(\"english\"))"
      ],
      "execution_count": null,
      "outputs": [
        {
          "output_type": "stream",
          "name": "stdout",
          "text": [
            "[nltk_data] Downloading package stopwords to /root/nltk_data...\n",
            "[nltk_data]   Unzipping corpora/stopwords.zip.\n"
          ]
        }
      ]
    },
    {
      "cell_type": "code",
      "metadata": {
        "colab": {
          "base_uri": "https://localhost:8080/"
        },
        "id": "ceVaoFeOGYN7",
        "outputId": "07d00ca1-8afb-41e5-c0fb-266d552262ff"
      },
      "source": [
        "nltk.download('punkt')\n",
        "words = nltk.word_tokenize(text)"
      ],
      "execution_count": null,
      "outputs": [
        {
          "output_type": "stream",
          "name": "stdout",
          "text": [
            "[nltk_data] Downloading package punkt to /root/nltk_data...\n",
            "[nltk_data]   Unzipping tokenizers/punkt.zip.\n"
          ]
        }
      ]
    },
    {
      "cell_type": "code",
      "metadata": {
        "colab": {
          "base_uri": "https://localhost:8080/"
        },
        "id": "HlMuSz1PHWy4",
        "outputId": "924245eb-7cf3-4cc3-9e29-a7e33af0e473"
      },
      "source": [
        "without_stop_words = [word for word in words if not word in stop_words]\n",
        "print(without_stop_words)"
      ],
      "execution_count": null,
      "outputs": [
        {
          "output_type": "stream",
          "name": "stdout",
          "text": [
            "['Create', 'vertical', 'bar', 'chart', 'Trade_Dummy', 'table', 'x', 'axis', 'Isin', 'axis', 'Quantity', 'filter', 'columns', 'Isin', 'Quantity', '.', 'The', 'color', 'chart', 'darkgoldenrod', '.']\n"
          ]
        }
      ]
    },
    {
      "cell_type": "code",
      "metadata": {
        "colab": {
          "base_uri": "https://localhost:8080/"
        },
        "id": "XAHGzoCnOaKn",
        "outputId": "a1149809-21fb-4c38-e5eb-4db125bee93b"
      },
      "source": [
        "text2 = data_df['Chart description_2'][0]\n",
        "words2 = nltk.word_tokenize(text2)\n",
        "filter2 = [word2 for word2 in words2 if not word2 in stop_words]\n",
        "print(filter2)"
      ],
      "execution_count": null,
      "outputs": [
        {
          "output_type": "stream",
          "name": "stdout",
          "text": [
            "['Plot', 'Isin', 'v', 'Quantity', 'Trade_Dummy', 'table', 'vertical', 'bar', 'chart', 'color', 'chart', 'set', 'darkgoldenrod', '.', 'The', 'columns', 'available', 'filter', 'Isin', 'Quantity', '.']\n"
          ]
        }
      ]
    },
    {
      "cell_type": "code",
      "metadata": {
        "id": "FpOmR1XV1w3B"
      },
      "source": [
        "data_json = data_df['Chart config']"
      ],
      "execution_count": null,
      "outputs": []
    },
    {
      "cell_type": "code",
      "metadata": {
        "colab": {
          "base_uri": "https://localhost:8080/"
        },
        "id": "qF7hDEOx9MMb",
        "outputId": "28212fd3-a839-4c8b-dc78-70cfd5ddddd5"
      },
      "source": [
        "data_json.head()"
      ],
      "execution_count": null,
      "outputs": [
        {
          "output_type": "execute_result",
          "data": {
            "text/plain": [
              "0    [{agg_distinct: undefined,backgroundcolor: \"rg...\n",
              "1    [{agg_distinct: undefined,backgroundcolor: \"rg...\n",
              "2    [{agg_distinct: undefined,backgroundcolor: \"rg...\n",
              "Name: Chart config, dtype: object"
            ]
          },
          "metadata": {},
          "execution_count": 19
        }
      ]
    },
    {
      "cell_type": "code",
      "metadata": {
        "colab": {
          "base_uri": "https://localhost:8080/",
          "height": 120
        },
        "id": "DbCcDP7mg7Eq",
        "outputId": "3f20b7d5-e0fe-4388-be6d-28710a4568e5"
      },
      "source": [
        "data_json[0]"
      ],
      "execution_count": null,
      "outputs": [
        {
          "output_type": "execute_result",
          "data": {
            "application/vnd.google.colaboratory.intrinsic+json": {
              "type": "string"
            },
            "text/plain": [
              "'[{agg_distinct:\\xa0undefined,backgroundcolor:\\xa0\"rgb(255, 255, 255)\",changed_text:\\xa0[],chartheader:\\xa0\"\\xa0Isin v Quantity\",color:\\xa0\"rgb(255, 255, 255)\",computed_number:\\xa0undefined,conditional_columns_value:\\xa0undefined,conditional_table:\\xa0undefined,config_color:\\xa0\"#b8860b\",config_data_value:\\xa0undefined,config_element_color:\\xa0\"#b8860b\",config_gridlines:\\xa0\"hide_gridlines\",config_label_placement:\\xa0\"inside\",config_labels:\\xa0\"hide_labels\",config_titlesize:\\xa0undefined,config_valuesize:\\xa0undefined,config_x_axis_title:\\xa0\"\",config_xrange:\\xa0\"\",config_y_axis_title:\\xa0\"\",config_yrange:\\xa0\"\",data:\\xa0[{marker:\\xa0{color:\\xa0Array(2)},mode:\\xa0\"markers+text\",text:\\xa0(2)\\xa0[11000,\\xa09000],textinfo:\\xa0\"\",textposition:\\xa0\"inside\",type:\\xa0\"bar\",x:\\xa0[],y:\\xa0[]}],data_borderColor:\\xa0\"#000000\",data_borderStyle:\\xa0\"solid\",data_borderThickness:\\xa0\"2\",data_borderon:\\xa0\"true\",data_shadecolor:\\xa0\"#7a7575\",data_shadowThick:\\xa0\"6\",data_shadowX:\\xa0\"2\",data_shadowY:\\xa0\"1\",data_shadowblurry:\\xa0\"10\",data_shadowon:\\xa0\"true\",element_label:\\xa0\"\",filter_input_final:\\xa0[{column_name:\\xa0\"Isin\",data_category:\\xa0\"Categorical\",data_type:\\xa0\"CharField\"}]filters:\\xa0\\xa0[\\'Isin\\',\\xa0\\'Quantity\\']global_bg:\\xa0\"yes\",global_bgcolor:\\xa0\"rgb(255, 255, 255)\",global_ind_color:\\xa0\"rgb(184, 134, 11)\",grad_color:\\xa0\"yes\",graph_subtype:\\xa0\"Vertical_Bar\",header_alignment:\\xa0\"left\",header_bgcolor:\\xa0\"#ccdfaf\",header_color:\\xa0\"#1a2293\",header_fontsize:\\xa023,header_fontstyle:\\xa0\"Arial\",header_fontweight:\\xa0\"100\",height:\\xa0560,id:\\xa0\"QuantityIsinVertical_Bar034182991342568614\",is_title:\\xa0undefined,layout:\\xa0{margin:\\xa0{…},\\xa0height:\\xa0502,\\xa0width:\\xa0462,\\xa0yaxis:\\xa0{…},\\xa0xaxis:\\xa0{…},\\xa0…},legend_x:\\xa0undefined,legend_y:\\xa0undefined,line_column:\\xa0undefined,operation:\\xa0\"sum\",operation_n:\\xa0undefined,plot_bg_color:\\xa0\"#000000\",position:\\xa0{top:\\xa00.00002001171873189378,\\xa0left:\\xa07.499999030883789},second_column:\\xa0\"None\",tableName:\\xa0\"Trade_Dummy\",title_value:\\xa0undefined,total_y:\\xa0undefined,width:\\xa0468.188,x_axis:\\xa0\"Isin\",y_axis:\\xa0\"Quantity\"}]'"
            ]
          },
          "metadata": {},
          "execution_count": 20
        }
      ]
    },
    {
      "cell_type": "code",
      "metadata": {
        "id": "9yhtxGJxhAPO"
      },
      "source": [
        ""
      ],
      "execution_count": null,
      "outputs": []
    }
  ]
}